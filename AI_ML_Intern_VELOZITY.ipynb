{
  "nbformat": 4,
  "nbformat_minor": 0,
  "metadata": {
    "colab": {
      "provenance": [],
      "gpuType": "T4"
    },
    "kernelspec": {
      "name": "python3",
      "display_name": "Python 3"
    },
    "language_info": {
      "name": "python"
    },
    "accelerator": "GPU"
  },
  "cells": [
    {
      "cell_type": "code",
      "source": [
        "# !pip install easyocr"
      ],
      "metadata": {
        "id": "LWfbi1_qxlqV"
      },
      "execution_count": 1,
      "outputs": []
    },
    {
      "cell_type": "code",
      "source": [
        "import os\n",
        "import cv2\n",
        "import sys,glob\n",
        "import easyocr\n",
        "import torch"
      ],
      "metadata": {
        "id": "e8na9cPXxuBW"
      },
      "execution_count": 1,
      "outputs": []
    },
    {
      "cell_type": "code",
      "execution_count": 2,
      "metadata": {
        "id": "4zb1IwNLXRJV"
      },
      "outputs": [],
      "source": [
        "from google.colab import data_table\n",
        "data_table.enable_dataframe_formatter()"
      ]
    },
    {
      "cell_type": "code",
      "source": [
        "import re\n",
        "import numpy as np\n",
        "import pandas as pd\n",
        "import dateutil"
      ],
      "metadata": {
        "id": "-NmYppYZXgZQ"
      },
      "execution_count": 3,
      "outputs": []
    },
    {
      "cell_type": "code",
      "source": [
        "from datetime import date\n",
        "from datetime import datetime\n",
        "from dateutil.parser import parse"
      ],
      "metadata": {
        "id": "zDT_A6XAe-f5"
      },
      "execution_count": 4,
      "outputs": []
    },
    {
      "cell_type": "markdown",
      "source": [
        "# Sample Prescription text-"
      ],
      "metadata": {
        "id": "YYs0OVr6uh9v"
      }
    },
    {
      "cell_type": "code",
      "source": [
        "prescription_text = \"Patient John Doe received a prescription, for the following medication. The medicine name is Acetaminophen, with a dosage of 500mg, Mft 2021-08-03 and This prescription aims to manage discomfort and ensure the patient's well-being Exp 2026-08-03. The price of the medicine is Rs 50.00]\t\""
      ],
      "metadata": {
        "id": "Q4gMvGKNXlWP"
      },
      "execution_count": 5,
      "outputs": []
    },
    {
      "cell_type": "markdown",
      "source": [
        "Medicine name, Dosage, Price"
      ],
      "metadata": {
        "id": "X5Yb8B_-u4kf"
      }
    },
    {
      "cell_type": "code",
      "source": [
        "medicine_name_match = re.search(r'Medicine name is (\\w+)', prescription_text, re.IGNORECASE)\n",
        "if medicine_name_match:\n",
        "    medicine_name = medicine_name_match.group(1)\n",
        "else:\n",
        "    medicine_name = \"Not found\"\n",
        "\n",
        "dosage_match = re.search(r'dosage of (\\d+(?:mg|g)?)', prescription_text, re.IGNORECASE)\n",
        "if dosage_match:\n",
        "    dosage = dosage_match.group(1)\n",
        "else:\n",
        "    dosage = \"Not found\"\n",
        "\n",
        "price_match = re.search(r'(?:Rs|₹)?\\s?(\\d+\\.\\d{2})', prescription_text)\n",
        "if price_match:\n",
        "    price = price_match.group(1)\n",
        "else:\n",
        "    price = \"Not found\""
      ],
      "metadata": {
        "id": "UWjUm7G3p0qe"
      },
      "execution_count": 6,
      "outputs": []
    },
    {
      "cell_type": "code",
      "source": [
        "print(\"Medicine Name:\", medicine_name)\n",
        "print(\"Dosage/Strength:\", dosage)\n",
        "print(\"Price:\", price)"
      ],
      "metadata": {
        "colab": {
          "base_uri": "https://localhost:8080/"
        },
        "id": "wNitKS0_qSRp",
        "outputId": "2f9b5130-960e-40ac-8436-a2422ab7f853"
      },
      "execution_count": 7,
      "outputs": [
        {
          "output_type": "stream",
          "name": "stdout",
          "text": [
            "Medicine Name: Acetaminophen\n",
            "Dosage/Strength: 500mg\n",
            "Price: 50.00\n"
          ]
        }
      ]
    },
    {
      "cell_type": "markdown",
      "source": [
        "Extract Expiry date"
      ],
      "metadata": {
        "id": "ETzKOY4NvDZH"
      }
    },
    {
      "cell_type": "code",
      "source": [
        "def datepart(lst):\n",
        "    lst = [ls.replace('.', '-') for ls in lst]\n",
        "    lst = set(lst)\n",
        "    lst = list(lst)\n",
        "\n",
        "    today = date.today()\n",
        "    tdy = str(today)\n",
        "    exp_date = \"\"\n",
        "\n",
        "    for date_str in lst:\n",
        "        if date_str > tdy and date_str > exp_date:\n",
        "            exp_date = date_str\n",
        "\n",
        "    return exp_date\n",
        "\n",
        "dates = re.findall(r'(\\d{4}-\\d{2}-\\d{2})', prescription_text)\n",
        "exp_date = datepart(dates)"
      ],
      "metadata": {
        "id": "MES7-Ox6wi_b"
      },
      "execution_count": 8,
      "outputs": []
    },
    {
      "cell_type": "code",
      "source": [
        "dates = re.findall(r'(\\d{4}-\\d{2}-\\d{2})', prescription_text)\n",
        "exp_date = datepart(dates)"
      ],
      "metadata": {
        "id": "ddDub46Cwsdh"
      },
      "execution_count": 9,
      "outputs": []
    },
    {
      "cell_type": "code",
      "source": [
        "print(\"Expiration Date:\", exp_date)"
      ],
      "metadata": {
        "colab": {
          "base_uri": "https://localhost:8080/"
        },
        "id": "cnDHkxUVwyJj",
        "outputId": "30b3ba8f-72b2-4030-f758-85bf692a63b9"
      },
      "execution_count": 10,
      "outputs": [
        {
          "output_type": "stream",
          "name": "stdout",
          "text": [
            "Expiration Date: 2026-08-03\n"
          ]
        }
      ]
    },
    {
      "cell_type": "markdown",
      "source": [
        "# Sample Images"
      ],
      "metadata": {
        "id": "_6_8UzxqxTyO"
      }
    },
    {
      "cell_type": "code",
      "source": [
        "reader = easyocr.Reader(['en', 'en'])"
      ],
      "metadata": {
        "id": "TxsSWmOx1PNX"
      },
      "execution_count": 11,
      "outputs": []
    },
    {
      "cell_type": "code",
      "source": [
        "img_two_text = reader.readtext('/content/img_two.jpg')\n",
        "final_text_two = \"\""
      ],
      "metadata": {
        "id": "snbILNSq0DTs"
      },
      "execution_count": 12,
      "outputs": []
    },
    {
      "cell_type": "code",
      "source": [
        "for _, text, __ in img_two_text:\n",
        "  final_text_two += \" \"\n",
        "  final_text_two += text\n",
        "final_text_two"
      ],
      "metadata": {
        "colab": {
          "base_uri": "https://localhost:8080/",
          "height": 53
        },
        "id": "kTBkEr_-0DOD",
        "outputId": "3702dfc7-3fce-4ea0-f888-519d323306c5"
      },
      "execution_count": 13,
      "outputs": [
        {
          "output_type": "execute_result",
          "data": {
            "text/plain": [
              "' Healwell Dosage 25 gms 4 tablets 3-4 times a day or as directed by the physician. HOMOEOPATHIC MEDICINE KEEP IN A COOL & DRY PLACE Mfg. Lic. No. GH/25 Batch No. BC-829 Mfg. Date MRP Rs. AUG-20 (Incl. of all taxes)   90/- Date of Expiry 5 years from the date of manufacturing: BIO-COMBINATION Tablets'"
            ],
            "application/vnd.google.colaboratory.intrinsic+json": {
              "type": "string"
            }
          },
          "metadata": {},
          "execution_count": 13
        }
      ]
    },
    {
      "cell_type": "code",
      "source": [
        "medicine_name_match = re.search(r'(.*?) Dosage (\\d+ gms \\d+ tablets \\d+-\\d+ times a day)', final_text_two)\n",
        "if medicine_name_match:\n",
        "    medicine_name = medicine_name_match.group(1)\n",
        "    dosage = medicine_name_match.group(2)\n",
        "else:\n",
        "    medicine_name = \"Not found\"\n",
        "    dosage = \"Not found\"\n",
        "\n",
        "manufacturing_date_match = re.search(r'Mfg\\. Date MRP Rs\\. (\\w+-\\d+)', final_text_two)\n",
        "if manufacturing_date_match:\n",
        "    manufacturing_date = manufacturing_date_match.group(1)\n",
        "else:\n",
        "    manufacturing_date = \"Not found\"\n",
        "\n",
        "expiry_match = re.search(r'Date of Expiry (\\d+ years from the date of manufacturing):', final_text_two)\n",
        "if expiry_match:\n",
        "    expiry_info = \"Expiry \" + expiry_match.group(1) + \" years from the date of manufacturing\"\n",
        "else:\n",
        "    expiry_info = \"Not found\"\n",
        "\n",
        "ingredients_match = re.search(r'Ingredients image', final_text_two, re.IGNORECASE)\n",
        "if ingredients_match:\n",
        "    ingredients_image = \"Mention of Ingredients Image Found\"\n",
        "else:\n",
        "    ingredients_image = \"Not mentioned\""
      ],
      "metadata": {
        "id": "Ny36jrj_48xi"
      },
      "execution_count": 14,
      "outputs": []
    },
    {
      "cell_type": "code",
      "source": [
        "print(\"Medicine Name:\", medicine_name)\n",
        "print(\"Dosage:\", dosage)\n",
        "print(\"Manufacturing Date:\", manufacturing_date)\n",
        "print(\"Expiry Date:\", expiry_match)\n",
        "print(\"Ingredients:\", ingredients_match)"
      ],
      "metadata": {
        "colab": {
          "base_uri": "https://localhost:8080/"
        },
        "id": "MADgDt_l7vHk",
        "outputId": "dc58ef4e-c743-470f-8782-b1fb520d123c"
      },
      "execution_count": 17,
      "outputs": [
        {
          "output_type": "stream",
          "name": "stdout",
          "text": [
            "Medicine Name:  Healwell\n",
            "Dosage: 25 gms 4 tablets 3-4 times a day\n",
            "Manufacturing Date: AUG-20\n",
            "Expiry Date: <re.Match object; span=(222, 276), match='Date of Expiry 5 years from the date of manufactu>\n",
            "Ingredients: None\n"
          ]
        }
      ]
    },
    {
      "cell_type": "code",
      "source": [],
      "metadata": {
        "id": "2kbMPssb7xKY"
      },
      "execution_count": null,
      "outputs": []
    }
  ]
}